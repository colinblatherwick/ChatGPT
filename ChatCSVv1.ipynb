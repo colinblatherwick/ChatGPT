{
 "cells": [
  {
   "cell_type": "code",
   "execution_count": 1,
   "id": "b44eb6b2-f710-4eea-9200-39a30e7287c0",
   "metadata": {},
   "outputs": [
    {
     "name": "stdout",
     "output_type": "stream",
     "text": [
      "Answer: 165 Albemarle aircraft were produced in 1942.\n"
     ]
    }
   ],
   "source": [
    "import os\n",
    "import pandas as pd\n",
    "from langchain_community.document_loaders import CSVLoader\n",
    "from langchain_community.vectorstores import FAISS\n",
    "from langchain.chains import RetrievalQA\n",
    "from langchain_openai import OpenAIEmbeddings, ChatOpenAI #\n",
    "\n",
    "# 1. Set your OpenAI API key\n",
    "os.environ[\"OPENAI_API_KEY\"] = \"sk-\"  # Replace with your actual key\n",
    "\n",
    "# 2. Load your CSV file\n",
    "loader = CSVLoader(file_path=\"wwii_aircraft_production.csv\")  # Replace with your file path and csv\n",
    "documents = loader.load()\n",
    "\n",
    "# 3. Create embeddings and vector store\n",
    "embeddings = OpenAIEmbeddings()  \n",
    "vectorstore = FAISS.from_documents(documents, embeddings)\n",
    "\n",
    "# 4. Configure the retriever to get more results (e.g. 20 chunks)\n",
    "retriever = vectorstore.as_retriever(search_kwargs={\"k\": 4})\n",
    "\n",
    "# 5. Build the QA chain using GPT-3.5\n",
    "llm = ChatOpenAI(model_name=\"gpt-3.5-turbo\")  \n",
    "qa_chain = RetrievalQA.from_chain_type(\n",
    "    llm=llm,\n",
    "    retriever=retriever,\n",
    "    return_source_documents=True\n",
    ")\n",
    "\n",
    "# 6. Ask a question\n",
    "query = \"How many Albemarle were produced in 1942?\" # Replace with a question relevant to your dataset\n",
    "result = qa_chain.invoke(query) \n",
    "\n",
    "# 7. Output the answer\n",
    "print(\"Answer:\", result['result'])\n"
   ]
  },
  {
   "cell_type": "code",
   "execution_count": null,
   "id": "f0341a69-7336-47e4-8fe7-27d9f60a6187",
   "metadata": {},
   "outputs": [],
   "source": []
  }
 ],
 "metadata": {
  "kernelspec": {
   "display_name": "Python 3 (ipykernel)",
   "language": "python",
   "name": "python3"
  },
  "language_info": {
   "codemirror_mode": {
    "name": "ipython",
    "version": 3
   },
   "file_extension": ".py",
   "mimetype": "text/x-python",
   "name": "python",
   "nbconvert_exporter": "python",
   "pygments_lexer": "ipython3",
   "version": "3.12.7"
  }
 },
 "nbformat": 4,
 "nbformat_minor": 5
}
